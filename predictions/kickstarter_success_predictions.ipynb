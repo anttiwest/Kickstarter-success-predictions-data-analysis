{
 "cells": [
  {
   "cell_type": "code",
   "execution_count": 3,
   "metadata": {
    "collapsed": true
   },
   "outputs": [],
   "source": [
    "import pandas as pd\n",
    "import numpy as np\n",
    "import operator\n",
    "import matplotlib.pyplot as plt\n",
    "from sklearn.model_selection import cross_val_score\n",
    "from sklearn.metrics import mean_squared_error\n",
    "import math\n",
    "from datetime import date\n",
    "from sklearn import datasets\n",
    "from sklearn.tree import DecisionTreeClassifier\n",
    "from sklearn.model_selection import train_test_split\n",
    "\n",
    "\n",
    "#import the dataset\n",
    "data = pd.read_csv(\"kickstarter_dataset/ks-projects-201801.csv\")"
   ]
  },
  {
   "cell_type": "code",
   "execution_count": 4,
   "metadata": {},
   "outputs": [
    {
     "data": {
      "text/plain": [
       "(378661, 15)"
      ]
     },
     "execution_count": 4,
     "metadata": {},
     "output_type": "execute_result"
    }
   ],
   "source": [
    "len(data), len(list(data))"
   ]
  },
  {
   "cell_type": "code",
   "execution_count": 5,
   "metadata": {},
   "outputs": [
    {
     "data": {
      "text/html": [
       "<div>\n",
       "<style>\n",
       "    .dataframe thead tr:only-child th {\n",
       "        text-align: right;\n",
       "    }\n",
       "\n",
       "    .dataframe thead th {\n",
       "        text-align: left;\n",
       "    }\n",
       "\n",
       "    .dataframe tbody tr th {\n",
       "        vertical-align: top;\n",
       "    }\n",
       "</style>\n",
       "<table border=\"1\" class=\"dataframe\">\n",
       "  <thead>\n",
       "    <tr style=\"text-align: right;\">\n",
       "      <th></th>\n",
       "      <th>ID</th>\n",
       "      <th>name</th>\n",
       "      <th>category</th>\n",
       "      <th>main_category</th>\n",
       "      <th>currency</th>\n",
       "      <th>deadline</th>\n",
       "      <th>goal</th>\n",
       "      <th>launched</th>\n",
       "      <th>pledged</th>\n",
       "      <th>state</th>\n",
       "      <th>backers</th>\n",
       "      <th>country</th>\n",
       "      <th>usd pledged</th>\n",
       "      <th>usd_pledged_real</th>\n",
       "      <th>usd_goal_real</th>\n",
       "    </tr>\n",
       "  </thead>\n",
       "  <tbody>\n",
       "    <tr>\n",
       "      <th>0</th>\n",
       "      <td>1000002330</td>\n",
       "      <td>The Songs of Adelaide &amp; Abullah</td>\n",
       "      <td>Poetry</td>\n",
       "      <td>Publishing</td>\n",
       "      <td>GBP</td>\n",
       "      <td>2015-10-09</td>\n",
       "      <td>1000.0</td>\n",
       "      <td>2015-08-11 12:12:28</td>\n",
       "      <td>0.0</td>\n",
       "      <td>failed</td>\n",
       "      <td>0</td>\n",
       "      <td>GB</td>\n",
       "      <td>0.0</td>\n",
       "      <td>0.0</td>\n",
       "      <td>1533.95</td>\n",
       "    </tr>\n",
       "    <tr>\n",
       "      <th>1</th>\n",
       "      <td>1000003930</td>\n",
       "      <td>Greeting From Earth: ZGAC Arts Capsule For ET</td>\n",
       "      <td>Narrative Film</td>\n",
       "      <td>Film &amp; Video</td>\n",
       "      <td>USD</td>\n",
       "      <td>2017-11-01</td>\n",
       "      <td>30000.0</td>\n",
       "      <td>2017-09-02 04:43:57</td>\n",
       "      <td>2421.0</td>\n",
       "      <td>failed</td>\n",
       "      <td>15</td>\n",
       "      <td>US</td>\n",
       "      <td>100.0</td>\n",
       "      <td>2421.0</td>\n",
       "      <td>30000.00</td>\n",
       "    </tr>\n",
       "    <tr>\n",
       "      <th>2</th>\n",
       "      <td>1000004038</td>\n",
       "      <td>Where is Hank?</td>\n",
       "      <td>Narrative Film</td>\n",
       "      <td>Film &amp; Video</td>\n",
       "      <td>USD</td>\n",
       "      <td>2013-02-26</td>\n",
       "      <td>45000.0</td>\n",
       "      <td>2013-01-12 00:20:50</td>\n",
       "      <td>220.0</td>\n",
       "      <td>failed</td>\n",
       "      <td>3</td>\n",
       "      <td>US</td>\n",
       "      <td>220.0</td>\n",
       "      <td>220.0</td>\n",
       "      <td>45000.00</td>\n",
       "    </tr>\n",
       "    <tr>\n",
       "      <th>3</th>\n",
       "      <td>1000007540</td>\n",
       "      <td>ToshiCapital Rekordz Needs Help to Complete Album</td>\n",
       "      <td>Music</td>\n",
       "      <td>Music</td>\n",
       "      <td>USD</td>\n",
       "      <td>2012-04-16</td>\n",
       "      <td>5000.0</td>\n",
       "      <td>2012-03-17 03:24:11</td>\n",
       "      <td>1.0</td>\n",
       "      <td>failed</td>\n",
       "      <td>1</td>\n",
       "      <td>US</td>\n",
       "      <td>1.0</td>\n",
       "      <td>1.0</td>\n",
       "      <td>5000.00</td>\n",
       "    </tr>\n",
       "    <tr>\n",
       "      <th>4</th>\n",
       "      <td>1000011046</td>\n",
       "      <td>Community Film Project: The Art of Neighborhoo...</td>\n",
       "      <td>Film &amp; Video</td>\n",
       "      <td>Film &amp; Video</td>\n",
       "      <td>USD</td>\n",
       "      <td>2015-08-29</td>\n",
       "      <td>19500.0</td>\n",
       "      <td>2015-07-04 08:35:03</td>\n",
       "      <td>1283.0</td>\n",
       "      <td>canceled</td>\n",
       "      <td>14</td>\n",
       "      <td>US</td>\n",
       "      <td>1283.0</td>\n",
       "      <td>1283.0</td>\n",
       "      <td>19500.00</td>\n",
       "    </tr>\n",
       "  </tbody>\n",
       "</table>\n",
       "</div>"
      ],
      "text/plain": [
       "           ID                                               name  \\\n",
       "0  1000002330                    The Songs of Adelaide & Abullah   \n",
       "1  1000003930      Greeting From Earth: ZGAC Arts Capsule For ET   \n",
       "2  1000004038                                     Where is Hank?   \n",
       "3  1000007540  ToshiCapital Rekordz Needs Help to Complete Album   \n",
       "4  1000011046  Community Film Project: The Art of Neighborhoo...   \n",
       "\n",
       "         category main_category currency    deadline     goal  \\\n",
       "0          Poetry    Publishing      GBP  2015-10-09   1000.0   \n",
       "1  Narrative Film  Film & Video      USD  2017-11-01  30000.0   \n",
       "2  Narrative Film  Film & Video      USD  2013-02-26  45000.0   \n",
       "3           Music         Music      USD  2012-04-16   5000.0   \n",
       "4    Film & Video  Film & Video      USD  2015-08-29  19500.0   \n",
       "\n",
       "              launched  pledged     state  backers country  usd pledged  \\\n",
       "0  2015-08-11 12:12:28      0.0    failed        0      GB          0.0   \n",
       "1  2017-09-02 04:43:57   2421.0    failed       15      US        100.0   \n",
       "2  2013-01-12 00:20:50    220.0    failed        3      US        220.0   \n",
       "3  2012-03-17 03:24:11      1.0    failed        1      US          1.0   \n",
       "4  2015-07-04 08:35:03   1283.0  canceled       14      US       1283.0   \n",
       "\n",
       "   usd_pledged_real  usd_goal_real  \n",
       "0               0.0        1533.95  \n",
       "1            2421.0       30000.00  \n",
       "2             220.0       45000.00  \n",
       "3               1.0        5000.00  \n",
       "4            1283.0       19500.00  "
      ]
     },
     "execution_count": 5,
     "metadata": {},
     "output_type": "execute_result"
    }
   ],
   "source": [
    "data.head()"
   ]
  },
  {
   "cell_type": "code",
   "execution_count": 6,
   "metadata": {},
   "outputs": [
    {
     "data": {
      "text/plain": [
       "ID                     0\n",
       "name                   4\n",
       "category               0\n",
       "main_category          0\n",
       "currency               0\n",
       "deadline               0\n",
       "goal                   0\n",
       "launched               0\n",
       "pledged                0\n",
       "state                  0\n",
       "backers                0\n",
       "country                0\n",
       "usd pledged         3797\n",
       "usd_pledged_real       0\n",
       "usd_goal_real          0\n",
       "dtype: int64"
      ]
     },
     "execution_count": 6,
     "metadata": {},
     "output_type": "execute_result"
    }
   ],
   "source": [
    "#check for nulls\n",
    "data.isnull().sum()"
   ]
  },
  {
   "cell_type": "code",
   "execution_count": 7,
   "metadata": {
    "collapsed": true
   },
   "outputs": [],
   "source": [
    "#usd_pledged has many empty rows and since its not important information\n",
    "#I decided to get rid of it\n",
    "data = data.drop(\"usd pledged\", 1)\n",
    "#remove the backers and pledged columns because they are not relevant for this research\n",
    "data = data.drop(\"backers\", 1)\n",
    "data = data.drop(\"pledged\", 1)"
   ]
  },
  {
   "cell_type": "code",
   "execution_count": 8,
   "metadata": {},
   "outputs": [
    {
     "data": {
      "text/html": [
       "<div>\n",
       "<style>\n",
       "    .dataframe thead tr:only-child th {\n",
       "        text-align: right;\n",
       "    }\n",
       "\n",
       "    .dataframe thead th {\n",
       "        text-align: left;\n",
       "    }\n",
       "\n",
       "    .dataframe tbody tr th {\n",
       "        vertical-align: top;\n",
       "    }\n",
       "</style>\n",
       "<table border=\"1\" class=\"dataframe\">\n",
       "  <thead>\n",
       "    <tr style=\"text-align: right;\">\n",
       "      <th></th>\n",
       "      <th>ID</th>\n",
       "      <th>name</th>\n",
       "      <th>category</th>\n",
       "      <th>main_category</th>\n",
       "      <th>currency</th>\n",
       "      <th>deadline</th>\n",
       "      <th>goal</th>\n",
       "      <th>launched</th>\n",
       "      <th>state</th>\n",
       "      <th>country</th>\n",
       "      <th>usd_pledged_real</th>\n",
       "      <th>usd_goal_real</th>\n",
       "    </tr>\n",
       "  </thead>\n",
       "  <tbody>\n",
       "    <tr>\n",
       "      <th>166851</th>\n",
       "      <td>1848699072</td>\n",
       "      <td>NaN</td>\n",
       "      <td>Narrative Film</td>\n",
       "      <td>Film &amp; Video</td>\n",
       "      <td>USD</td>\n",
       "      <td>2012-02-29</td>\n",
       "      <td>200000.0</td>\n",
       "      <td>2012-01-01 12:35:31</td>\n",
       "      <td>failed</td>\n",
       "      <td>US</td>\n",
       "      <td>100.00</td>\n",
       "      <td>200000.00</td>\n",
       "    </tr>\n",
       "    <tr>\n",
       "      <th>307234</th>\n",
       "      <td>634871725</td>\n",
       "      <td>NaN</td>\n",
       "      <td>Video Games</td>\n",
       "      <td>Games</td>\n",
       "      <td>GBP</td>\n",
       "      <td>2013-01-06</td>\n",
       "      <td>2000.0</td>\n",
       "      <td>2012-12-19 23:57:48</td>\n",
       "      <td>failed</td>\n",
       "      <td>GB</td>\n",
       "      <td>316.05</td>\n",
       "      <td>3224.97</td>\n",
       "    </tr>\n",
       "    <tr>\n",
       "      <th>309991</th>\n",
       "      <td>648853978</td>\n",
       "      <td>NaN</td>\n",
       "      <td>Product Design</td>\n",
       "      <td>Design</td>\n",
       "      <td>USD</td>\n",
       "      <td>2016-07-18</td>\n",
       "      <td>2500.0</td>\n",
       "      <td>2016-06-18 05:01:47</td>\n",
       "      <td>suspended</td>\n",
       "      <td>US</td>\n",
       "      <td>0.00</td>\n",
       "      <td>2500.00</td>\n",
       "    </tr>\n",
       "    <tr>\n",
       "      <th>338931</th>\n",
       "      <td>796533179</td>\n",
       "      <td>NaN</td>\n",
       "      <td>Painting</td>\n",
       "      <td>Art</td>\n",
       "      <td>USD</td>\n",
       "      <td>2011-12-05</td>\n",
       "      <td>35000.0</td>\n",
       "      <td>2011-11-06 23:55:55</td>\n",
       "      <td>failed</td>\n",
       "      <td>US</td>\n",
       "      <td>220.00</td>\n",
       "      <td>35000.00</td>\n",
       "    </tr>\n",
       "  </tbody>\n",
       "</table>\n",
       "</div>"
      ],
      "text/plain": [
       "                ID name        category main_category currency    deadline  \\\n",
       "166851  1848699072  NaN  Narrative Film  Film & Video      USD  2012-02-29   \n",
       "307234   634871725  NaN     Video Games         Games      GBP  2013-01-06   \n",
       "309991   648853978  NaN  Product Design        Design      USD  2016-07-18   \n",
       "338931   796533179  NaN        Painting           Art      USD  2011-12-05   \n",
       "\n",
       "            goal             launched      state country  usd_pledged_real  \\\n",
       "166851  200000.0  2012-01-01 12:35:31     failed      US            100.00   \n",
       "307234    2000.0  2012-12-19 23:57:48     failed      GB            316.05   \n",
       "309991    2500.0  2016-06-18 05:01:47  suspended      US              0.00   \n",
       "338931   35000.0  2011-11-06 23:55:55     failed      US            220.00   \n",
       "\n",
       "        usd_goal_real  \n",
       "166851      200000.00  \n",
       "307234        3224.97  \n",
       "309991        2500.00  \n",
       "338931       35000.00  "
      ]
     },
     "execution_count": 8,
     "metadata": {},
     "output_type": "execute_result"
    }
   ],
   "source": [
    "#check the projects without a name\n",
    "#since the name isnt important for this purpose these can be left as is \n",
    "#because they have the other information we need\n",
    "data[data[\"name\"].isnull()]"
   ]
  },
  {
   "cell_type": "code",
   "execution_count": 9,
   "metadata": {},
   "outputs": [
    {
     "data": {
      "text/plain": [
       "failed        197719\n",
       "successful    133956\n",
       "canceled       38779\n",
       "Name: state, dtype: int64"
      ]
     },
     "execution_count": 9,
     "metadata": {},
     "output_type": "execute_result"
    }
   ],
   "source": [
    "#cut the data only to successful canceled  or failed projects\n",
    "data = data.drop(data[(data[\"state\"] == \"undefined\") | (data[\"state\"] == \"live\") | (data[\"state\"] == \"suspended\")].index)\n",
    "data[\"state\"].value_counts()"
   ]
  },
  {
   "cell_type": "code",
   "execution_count": 10,
   "metadata": {
    "collapsed": true
   },
   "outputs": [],
   "source": [
    "#convert deadline and launched columns to datetime format\n",
    "data[\"deadline\"] = pd.to_datetime(data[\"deadline\"])\n",
    "data[\"launched\"] = pd.to_datetime(data[\"launched\"])"
   ]
  },
  {
   "cell_type": "code",
   "execution_count": 11,
   "metadata": {
    "collapsed": true
   },
   "outputs": [],
   "source": [
    "#check that there is no \"weird\" dates on the dataset\n",
    "data = data.drop(data[(data[\"deadline\"].dt.year < 2008) & (data[\"launched\"].dt.year < 2008)].index)"
   ]
  },
  {
   "cell_type": "code",
   "execution_count": 12,
   "metadata": {
    "collapsed": true
   },
   "outputs": [],
   "source": [
    "#change status to boolean value\n",
    "data[\"state\"] = np.where(data[\"state\"] == \"successful\", 1, 0)"
   ]
  },
  {
   "cell_type": "code",
   "execution_count": 13,
   "metadata": {
    "collapsed": true
   },
   "outputs": [],
   "source": [
    "#create column for if the goal was met because some of the canceled projects met the goal\n",
    "data[\"goal_met\"] = np.where((data[\"usd_pledged_real\"] >= data[\"usd_goal_real\"]), 1, 0)"
   ]
  },
  {
   "cell_type": "code",
   "execution_count": 14,
   "metadata": {
    "scrolled": true
   },
   "outputs": [
    {
     "name": "stdout",
     "output_type": "stream",
     "text": [
      "failed:  235799 , successful:  134655\n",
      "average success rate: 36.35 %\n"
     ]
    }
   ],
   "source": [
    "#check whats the success rate of projects\n",
    "failed = data[data[\"goal_met\"] == 0]\n",
    "successful = data[data[\"goal_met\"] == 1]\n",
    "print(\"failed: \", len(failed), \", successful: \", len(successful))\n",
    "#so the average success rate is:\n",
    "r = (len(successful) / (len(successful) + len(failed)))*100\n",
    "print(\"average success rate:\", \"%.2f\" % r, \"%\")"
   ]
  },
  {
   "cell_type": "code",
   "execution_count": 15,
   "metadata": {},
   "outputs": [
    {
     "data": {
      "text/plain": [
       "('mean (successful): ', 9147.588098738583, ', median(successful): ', 633.0)"
      ]
     },
     "execution_count": 15,
     "metadata": {},
     "output_type": "execute_result"
    }
   ],
   "source": [
    "#count mean and median of pledged funds\n",
    "succesfulmean = pd.DataFrame.mean(data[\"usd_pledged_real\"])\n",
    "succesfulmedian = pd.DataFrame.median(data[\"usd_pledged_real\"])\n",
    "\"mean (successful): \", succesfulmean, \", median(successful): \", succesfulmedian"
   ]
  },
  {
   "cell_type": "code",
   "execution_count": 16,
   "metadata": {},
   "outputs": [
    {
     "name": "stdout",
     "output_type": "stream",
     "text": [
      "average success rate: 36.35 %\n"
     ]
    }
   ],
   "source": [
    "#so the average success rate is:\n",
    "r = (len(successful) / len(data))*100\n",
    "print(\"average success rate:\", \"%.2f\" % r, \"%\")"
   ]
  },
  {
   "cell_type": "code",
   "execution_count": 17,
   "metadata": {
    "collapsed": true
   },
   "outputs": [],
   "source": [
    "main_categories = data[\"main_category\"].unique()\n",
    "successcounts = {}\n",
    "failedcounts = {}\n",
    "\n",
    "for i in range(0, len(main_categories)):\n",
    "    successcounts[(main_categories[i])] = len(data[(data[\"main_category\"] == main_categories[i]) & (data[\"goal_met\"] == 1)])\n",
    "    failedcounts[(main_categories[i])] = len(data[(data[\"main_category\"] == main_categories[i]) & (data[\"goal_met\"] == 0)])"
   ]
  },
  {
   "cell_type": "code",
   "execution_count": 18,
   "metadata": {},
   "outputs": [
    {
     "data": {
      "image/png": "[encoded data removed]",
      "text/plain": [
       "<matplotlib.figure.Figure at 0x2573fabaf28>"
      ]
     },
     "metadata": {},
     "output_type": "display_data"
    }
   ],
   "source": [
    "#bar chart of successful projects by category\n",
    "values = list(successcounts.values())\n",
    "plt.barh(range(len(successcounts)), values, tick_label=main_categories, color=\"green\")\n",
    "plt.title(\"Successful projects by main category\")\n",
    "plt.show()"
   ]
  },
  {
   "cell_type": "code",
   "execution_count": 19,
   "metadata": {},
   "outputs": [
    {
     "data": {
      "image/png": "[encoded data removed]",
      "text/plain": [
       "<matplotlib.figure.Figure at 0x25737f11358>"
      ]
     },
     "metadata": {},
     "output_type": "display_data"
    }
   ],
   "source": [
    "#bar chart of failed projects by category\n",
    "values = list(failedcounts.values())\n",
    "plt.barh(range(len(failedcounts)), values, tick_label=main_categories, color=\"red\")\n",
    "plt.title(\"Failed projects by main category\")\n",
    "plt.show()"
   ]
  },
  {
   "cell_type": "code",
   "execution_count": 20,
   "metadata": {
    "collapsed": true
   },
   "outputs": [],
   "source": [
    "failurerate = {}\n",
    "i = 0\n",
    "totalfails = len(data[(data[\"state\"] == 0)])\n",
    "colors = ['yellowgreen', 'gold', 'lightskyblue', 'lightcoral', 'pink', 'blue', 'cyan']\n",
    "\n",
    "for i in range(0, len(main_categories)):\n",
    "    failurerate[(main_categories[i])] = len(data[(data[\"main_category\"] == main_categories[i]) & (data[\"goal_met\"] ==  0)]) / totalfails\n",
    "    \n",
    "failurerate_sorted = sorted(failurerate.items(), key=operator.itemgetter(1))"
   ]
  },
  {
   "cell_type": "code",
   "execution_count": 21,
   "metadata": {},
   "outputs": [
    {
     "data": {
      "image/png": "[encoded data removed]",
      "text/plain": [
       "<matplotlib.figure.Figure at 0x257381d1400>"
      ]
     },
     "metadata": {},
     "output_type": "display_data"
    }
   ],
   "source": [
    "#bar chart of total donations by category\n",
    "donationcounts = {}\n",
    "i = 0\n",
    "\n",
    "for i in range(0, len(main_categories)):\n",
    "    c = data[data[\"main_category\"] == (main_categories[i])]   \n",
    "    donationsum = c[\"usd_pledged_real\"].sum()\n",
    "    donationsum = donationsum\n",
    "    donationcounts[(main_categories[i])] = donationsum\n",
    "\n",
    "\n",
    "donationvalues = list(donationcounts.values())    \n",
    "plt.barh(range(len(donationcounts)), donationvalues, tick_label=main_categories, color=colors)\n",
    "plt.title(\"Pledged funds by main category\")\n",
    "plt.show()"
   ]
  },
  {
   "cell_type": "code",
   "execution_count": 22,
   "metadata": {
    "collapsed": true
   },
   "outputs": [],
   "source": [
    "donationcounts_sorted = sorted(donationcounts.items(), key=operator.itemgetter(1))"
   ]
  },
  {
   "cell_type": "code",
   "execution_count": 23,
   "metadata": {},
   "outputs": [
    {
     "data": {
      "image/png": "[encoded data removed]",
      "text/plain": [
       "<matplotlib.figure.Figure at 0x257382039b0>"
      ]
     },
     "metadata": {},
     "output_type": "display_data"
    }
   ],
   "source": [
    "#success precentage by category\n",
    "successrate = {}\n",
    "i = 0\n",
    "total = len(data[(data[\"state\"] == 1)])\n",
    "\n",
    "for i in range(0, len(main_categories)):\n",
    "    successrate[(main_categories[i])] = len(data[(data[\"main_category\"] == main_categories[i]) & (data[\"state\"] ==  1)]) / total\n",
    "\n",
    "plt.pie(successrate.values(), labels=main_categories, startangle=90, autopct='%.1f%%')\n",
    "plt.title(\"Success precentage by main category\")\n",
    "plt.show()"
   ]
  },
  {
   "cell_type": "code",
   "execution_count": 24,
   "metadata": {
    "collapsed": true
   },
   "outputs": [],
   "source": [
    "successrate_sorted = sorted(successrate.items(), key=operator.itemgetter(1))\n",
    "mostsuccessfulmaincategory = successrate_sorted[len(successrate_sorted)-1]"
   ]
  },
  {
   "cell_type": "code",
   "execution_count": 25,
   "metadata": {
    "collapsed": true
   },
   "outputs": [],
   "source": [
    "#category, usd_goal_real, country\n",
    "categories = data[\"category\"].unique()\n",
    "\n",
    "#what sub category is the most succesful\n",
    "successratebycategory ={}\n",
    "i = 0\n",
    "\n",
    "for i in range(0, len(categories)):\n",
    "    successratebycategory[(categories[i])] = (len(data[(data[\"category\"] == categories[i]) & (data[\"state\"] ==  1)]) / total)\n",
    "    \n",
    "#the most succesful category is:\n",
    "successratebycategory_sorted = sorted(successratebycategory.items(), key=operator.itemgetter(1))\n",
    "mostsuccessfulcategory = successratebycategory_sorted[len(successratebycategory_sorted)-1]\n",
    "\n",
    "#what country is the most succesful\n",
    "successratebycountry ={}\n",
    "countries = data[\"country\"].unique()\n",
    "i = 0\n",
    "\n",
    "for i in range(0, len(countries)):\n",
    "    successratebycountry[(countries[i])] = (len(data[(data[\"country\"] == countries[i]) & (data[\"state\"] ==  1)]) / total)\n",
    "\n",
    "successratebycountry_sorted = sorted(successratebycountry.items(), key=operator.itemgetter(1))\n",
    "mostsuccessfulcountry = successratebycountry_sorted[len(successratebycountry_sorted)-1]"
   ]
  },
  {
   "cell_type": "code",
   "execution_count": 26,
   "metadata": {},
   "outputs": [
    {
     "name": "stdout",
     "output_type": "stream",
     "text": [
      "Most succesful..\n",
      "Country: ('US', 0.8159320971065126)\n",
      "Category: ('Product Design', 0.059437427214906385)\n"
     ]
    }
   ],
   "source": [
    "#the most succesful category and country is:\n",
    "print(\"Most succesful..\")\n",
    "print(\"Country:\", mostsuccessfulcountry)\n",
    "print(\"Category:\", mostsuccessfulcategory)"
   ]
  },
  {
   "cell_type": "code",
   "execution_count": 27,
   "metadata": {},
   "outputs": [
    {
     "name": "stdout",
     "output_type": "stream",
     "text": [
      "successful timeframe mean:  31.17025732427314\n",
      "failed timeframe mean:  34.68354403538607\n"
     ]
    }
   ],
   "source": [
    "#find out average time between launched and deadline dates of projects\n",
    "timeframessuccessful = {}\n",
    "timeframesfailed = {}\n",
    "\n",
    "dls = successful[\"deadline\"]\n",
    "lncs = successful[\"launched\"]\n",
    "\n",
    "dlf = failed[\"deadline\"]\n",
    "lncf = failed[\"launched\"]\n",
    "\n",
    "betweensuccessful = dls - lncs\n",
    "timeframessuccessful = betweensuccessful.dt.days\n",
    "\n",
    "betweenfailed = dlf - lncf\n",
    "timeframesfailed = betweenfailed.dt.days\n",
    "\n",
    "meantimeframessuccessful = pd.DataFrame.mean(timeframessuccessful)\n",
    "meantimeframesfailed = pd.DataFrame.mean(timeframesfailed)\n",
    "\n",
    "print(\"successful timeframe mean: \", meantimeframessuccessful)\n",
    "print(\"failed timeframe mean: \", meantimeframesfailed)"
   ]
  },
  {
   "cell_type": "code",
   "execution_count": 28,
   "metadata": {
    "collapsed": true
   },
   "outputs": [],
   "source": [
    "#add a timeframe column to the dataset\n",
    "data[\"timeframe\"] = (data[\"deadline\"] - data[\"launched\"]).dt.days"
   ]
  },
  {
   "cell_type": "code",
   "execution_count": 29,
   "metadata": {
    "collapsed": true
   },
   "outputs": [],
   "source": [
    "#from which country there are most projects\n",
    "\n",
    "projectcountbycountry = {}\n",
    "i = 0\n",
    "totalprojects = len(data)\n",
    "\n",
    "for i in range(0, len(countries)):\n",
    "    projectcountbycountry[(countries[i])] = len(data[data[\"country\"] == countries[i]])/totalprojects\n",
    "\n",
    "projectcountbycountry_sorted = sorted(projectcountbycountry.items(), key=operator.itemgetter(1))"
   ]
  },
  {
   "cell_type": "code",
   "execution_count": 30,
   "metadata": {
    "collapsed": true
   },
   "outputs": [],
   "source": [
    "#because category is clearly a major factor in the success of the projects funding\n",
    "#the category should be inculded in the predictions\n",
    "\n",
    "data_dummies_maincategory = pd.get_dummies(data[\"main_category\"])\n",
    "data_dummies_country = pd.get_dummies(data[\"country\"])\n",
    "dummies_country_maincategory = data_dummies_maincategory.join(data_dummies_country)"
   ]
  },
  {
   "cell_type": "code",
   "execution_count": 31,
   "metadata": {
    "collapsed": true
   },
   "outputs": [],
   "source": [
    "#add another column for the ratio between mean goal and goal\n",
    "usd_goal_real_mean = pd.DataFrame.mean(data[\"usd_goal_real\"])\n",
    "data[\"goal_to_mean_ratio\"] = data[\"usd_goal_real\"] / usd_goal_real_mean"
   ]
  },
  {
   "cell_type": "code",
   "execution_count": 32,
   "metadata": {
    "collapsed": true
   },
   "outputs": [],
   "source": [
    "data_y_dummies = pd.get_dummies(data[\"goal_met\"])\n",
    "data_trimmed = data.join(dummies_country_maincategory)\n",
    "data_trimmed = data_trimmed.join(data_y_dummies)\n",
    "data_trimmed = data_trimmed.drop(\"state\", 1)"
   ]
  },
  {
   "cell_type": "code",
   "execution_count": 33,
   "metadata": {},
   "outputs": [
    {
     "name": "stdout",
     "output_type": "stream",
     "text": [
      "predictors:  ['timeframe', 'goal_to_mean_ratio', 'Art', 'Comics', 'Crafts', 'Dance', 'Design', 'Fashion', 'Film & Video', 'Food', 'Games', 'Journalism', 'Music', 'Photography', 'Publishing', 'Technology', 'Theater', 'AT', 'AU', 'BE', 'CA', 'CH', 'DE', 'DK', 'ES', 'FR', 'GB', 'HK', 'IE', 'IT', 'JP', 'LU', 'MX', 'N,0\"', 'NL', 'NO', 'NZ', 'SE', 'SG']\n",
      "target:  goal_met\n"
     ]
    }
   ],
   "source": [
    "colnames = data_trimmed.columns.values.tolist()\n",
    "predictors = colnames[12:(len(colnames)-3)]\n",
    "target = colnames[11]\n",
    "\n",
    "print(\"predictors: \", predictors)\n",
    "print(\"target: \", target)"
   ]
  },
  {
   "cell_type": "code",
   "execution_count": 34,
   "metadata": {
    "collapsed": true
   },
   "outputs": [],
   "source": [
    "#split data into train and test\n",
    "data_trimmed['is_train'] = np.random.uniform(0, 1, len(data_trimmed)) <= .70\n",
    "train, test = data_trimmed[data_trimmed['is_train']==True], data_trimmed[data_trimmed['is_train']==False]"
   ]
  },
  {
   "cell_type": "code",
   "execution_count": 35,
   "metadata": {},
   "outputs": [
    {
     "data": {
      "text/plain": [
       "DecisionTreeClassifier(class_weight=None, criterion='entropy', max_depth=None,\n",
       "            max_features=None, max_leaf_nodes=None,\n",
       "            min_impurity_decrease=0.0, min_impurity_split=None,\n",
       "            min_samples_leaf=1, min_samples_split=20,\n",
       "            min_weight_fraction_leaf=0.0, presort=False, random_state=99,\n",
       "            splitter='best')"
      ]
     },
     "execution_count": 35,
     "metadata": {},
     "output_type": "execute_result"
    }
   ],
   "source": [
    "#create decision tree\n",
    "dt = DecisionTreeClassifier(criterion=\"entropy\", min_samples_split=20, random_state=99)\n",
    "dt.fit(train[predictors], train[target])"
   ]
  },
  {
   "cell_type": "code",
   "execution_count": 36,
   "metadata": {},
   "outputs": [
    {
     "data": {
      "text/html": [
       "<div>\n",
       "<style>\n",
       "    .dataframe thead tr:only-child th {\n",
       "        text-align: right;\n",
       "    }\n",
       "\n",
       "    .dataframe thead th {\n",
       "        text-align: left;\n",
       "    }\n",
       "\n",
       "    .dataframe tbody tr th {\n",
       "        vertical-align: top;\n",
       "    }\n",
       "</style>\n",
       "<table border=\"1\" class=\"dataframe\">\n",
       "  <thead>\n",
       "    <tr style=\"text-align: right;\">\n",
       "      <th>Predictions</th>\n",
       "      <th>0</th>\n",
       "      <th>1</th>\n",
       "    </tr>\n",
       "    <tr>\n",
       "      <th>Actual</th>\n",
       "      <th></th>\n",
       "      <th></th>\n",
       "    </tr>\n",
       "  </thead>\n",
       "  <tbody>\n",
       "    <tr>\n",
       "      <th>0</th>\n",
       "      <td>56473</td>\n",
       "      <td>14081</td>\n",
       "    </tr>\n",
       "    <tr>\n",
       "      <th>1</th>\n",
       "      <td>24587</td>\n",
       "      <td>15884</td>\n",
       "    </tr>\n",
       "  </tbody>\n",
       "</table>\n",
       "</div>"
      ],
      "text/plain": [
       "Predictions      0      1\n",
       "Actual                   \n",
       "0            56473  14081\n",
       "1            24587  15884"
      ]
     },
     "execution_count": 36,
     "metadata": {},
     "output_type": "execute_result"
    }
   ],
   "source": [
    "preds=dt.predict(test[predictors])\n",
    "pd.crosstab(test[\"goal_met\"],preds,rownames=[\"Actual\"], colnames=[\"Predictions\"])"
   ]
  },
  {
   "cell_type": "code",
   "execution_count": 37,
   "metadata": {},
   "outputs": [
    {
     "data": {
      "text/plain": [
       "1"
      ]
     },
     "execution_count": 37,
     "metadata": {},
     "output_type": "execute_result"
    }
   ],
   "source": [
    "#create a .dot file of the tree\n",
    "from sklearn.tree import export_graphviz\n",
    "with open('dtree_output/dtree.dot', 'w') as dotfile:\n",
    "    export_graphviz(dt, out_file = dotfile, feature_names = predictors)\n",
    "dotfile.close()\n",
    "\n",
    "from os import system\n",
    "system(\"dot -Tpng dtree_output/dtree.dot -o dtree_output/dtree_visualization.png\")"
   ]
  },
  {
   "cell_type": "code",
   "execution_count": null,
   "metadata": {
    "collapsed": true
   },
   "outputs": [],
   "source": []
  }
 ],
 "metadata": {
  "kernelspec": {
   "display_name": "Python 3",
   "language": "python",
   "name": "python3"
  },
  "language_info": {
   "codemirror_mode": {
    "name": "ipython",
    "version": 3
   },
   "file_extension": ".py",
   "mimetype": "text/x-python",
   "name": "python",
   "nbconvert_exporter": "python",
   "pygments_lexer": "ipython3",
   "version": "3.6.3"
  }
 },
 "nbformat": 4,
 "nbformat_minor": 2
}
